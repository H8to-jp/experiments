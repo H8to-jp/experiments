{
 "cells": [
  {
   "cell_type": "markdown",
   "metadata": {},
   "source": [
    "# UnionFind"
   ]
  },
  {
   "cell_type": "markdown",
   "metadata": {},
   "source": [
    "## <u>概要<u/>\n",
    "グループ分けを管理するデータ構造。次の二つの操作を用いる。\n",
    "  \n",
    "Union：2集合を1つにまとめる   \n",
    "  \n",
    "Find：ある要素がどの集合に属しているかの判定"
   ]
  },
  {
   "cell_type": "markdown",
   "metadata": {},
   "source": [
    "## <u>実装<u/>"
   ]
  },
  {
   "cell_type": "code",
   "execution_count": null,
   "metadata": {},
   "outputs": [],
   "source": [
    "class UnionFind:\n",
    "    def __init__(self, n):\n",
    "        #Data: 正:親要素のノード番号, 負:サイズ\n",
    "        self.D = [-1 for i in range(n)]\n",
    "    \n",
    "    def find(self, x:int)->int:\n",
    "        if self.D[x] < 0:\n",
    "            return x\n",
    "        else:\n",
    "            self.D[x] = self.find(self.D[x])\n",
    "            return self.D[x]\n",
    "\n",
    "    \n",
    "    def unite(self, x:int, y:int)->bool:\n",
    "        x, y = self.find(x), self.find(y)\n",
    "        if x == y:\n",
    "            return False\n",
    "        else:\n",
    "            if self.D[x] > self.D[y]:\n",
    "                self.D[x], self.D[y] = self.D[y], self.D[x]\n",
    "            else:\n",
    "                pass\n",
    "            self.D[x] += self.D[y]\n",
    "            self.D[y] = x\n",
    "            return True\n",
    "\n",
    "    def same(self, x:int, y:int)->bool:\n",
    "        return self.find(x) == self.find(y)\n",
    "\n",
    "    def size(self, x:int)->int:\n",
    "        return -self.D[self.find(x)]\n"
   ]
  },
  {
   "cell_type": "markdown",
   "metadata": {},
   "source": [
    "## <u>各部の説明<u/>"
   ]
  },
  {
   "cell_type": "markdown",
   "metadata": {},
   "source": [
    "### <u>init</u>\n",
    "#### self.Dについて\n",
    "・正の値のときはその要素は「子」であることを表し、各要素の親ノードの配列番号が格納されている。\n",
    " \n",
    "・負の値のときはその要素は「親」であることを表し、そのグループ（木、あるいは森）の大きさを示す。"
   ]
  },
  {
   "cell_type": "markdown",
   "metadata": {},
   "source": [
    "### <u>find</u>\n",
    "・要素番号xを受け取り、親ノードの配列番号を返す\n",
    "\n",
    "・再帰処理を含む\n",
    "\n",
    "・経路縮約を導入してある\n",
    "#### 経路縮約\n",
    "調べた要素の枝を直接親に伸ばす。\n",
    "例）親 3←2←1 を 3←2 3←1 とするということ"
   ]
  },
  {
   "cell_type": "markdown",
   "metadata": {},
   "source": [
    "### <u>unite</u>\n",
    "・二つの要素番号x,yを受け取り、その二つを同じグループ（木あるいは森）とする\n",
    "\n",
    "・すでに同じグループならFalse,処理が行う必要があればTrueを返す\n",
    "#### 簡単な流れ\n",
    "（１）findを用いてxとyの親ノードの配列番号を調べそれぞれx,yに入れる\n",
    "\n",
    "（２）xとyの親ノードの配列番号が同じならFalseを返す\n",
    "\n",
    "（３）グループの大きい方を小さい方の親とする\n",
    "\n",
    "（４）グループの大きいほうのDで示すグループの大きさを更新する"
   ]
  },
  {
   "cell_type": "markdown",
   "metadata": {},
   "source": [
    "### <u>same<u/>\n",
    "・二つの要素番号x,yを受け取りその二つが同じグループ（木あるいは森）かどうかを判定してその結果をbool型で返す\n",
    "    \n",
    "・findを用いている"
   ]
  },
  {
   "cell_type": "markdown",
   "metadata": {},
   "source": [
    "### <u>size<u/>\n",
    "・要素番号xを受け取りその要素を含むグループ（木あるいは森）の大きさを返す\n",
    "    \n",
    "・findを用いている"
   ]
  }
 ],
 "metadata": {
  "kernelspec": {
   "display_name": "Python 3",
   "language": "python",
   "name": "python3"
  },
  "language_info": {
   "codemirror_mode": {
    "name": "ipython",
    "version": 3
   },
   "file_extension": ".py",
   "mimetype": "text/x-python",
   "name": "python",
   "nbconvert_exporter": "python",
   "pygments_lexer": "ipython3",
   "version": "3.7.4"
  }
 },
 "nbformat": 4,
 "nbformat_minor": 2
}
